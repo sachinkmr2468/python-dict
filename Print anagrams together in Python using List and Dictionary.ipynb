{
 "cells": [
  {
   "cell_type": "markdown",
   "metadata": {},
   "source": [
    "# Print anagrams together in Python using List and Dictionary"
   ]
  },
  {
   "cell_type": "code",
   "execution_count": 12,
   "metadata": {},
   "outputs": [
    {
     "name": "stdout",
     "output_type": "stream",
     "text": [
      "both the strings are anagrams to each other\n",
      "both the strings are not anagrams to each and uncommon words between both are = ['e', 'a']\n"
     ]
    }
   ],
   "source": [
    "def check(lst1,lst2):\n",
    "    lst11 = sorted(lst1)\n",
    "    lst22 = sorted(lst2)\n",
    "    lst3 = []\n",
    "    for i in lst11:\n",
    "        if i in lst22:\n",
    "            pass\n",
    "        else:\n",
    "            lst3.append(i)\n",
    "    for i in lst22:\n",
    "        if i in lst11:\n",
    "            pass\n",
    "        else:\n",
    "            lst3.append(i)\n",
    "    if(len(lst3)==0):\n",
    "        print('both the strings are anagrams to each other')\n",
    "    else:\n",
    "        print('both the strings are not anagrams to each and uncommon words between both are =', lst3)\n",
    "lst1 = 'listen'\n",
    "lst2= 'silent'\n",
    "check(lst1,lst2)\n",
    "lst1 = 'listen'\n",
    "lst2  = 'silant'\n",
    "check(lst1,lst2)"
   ]
  },
  {
   "cell_type": "code",
   "execution_count": 13,
   "metadata": {},
   "outputs": [
    {
     "name": "stdout",
     "output_type": "stream",
     "text": [
      "cat tac act\n",
      "dog god\n"
     ]
    }
   ],
   "source": [
    "from collections import defaultdict\n",
    " \n",
    "def printAnagramsTogether(words):\n",
    "    groupedWords = defaultdict(list)\n",
    " \n",
    "    # Put all anagram words together in a dictionary\n",
    "    # where key is sorted word\n",
    "    for word in words:\n",
    "        groupedWords[\"\".join(sorted(word))].append(word)\n",
    " \n",
    "    # Print all anagrams together\n",
    "    for group in groupedWords.values():\n",
    "        print(\" \".join(group))     \n",
    " \n",
    " \n",
    "if __name__ == \"__main__\":  \n",
    "    arr =  [\"cat\", \"dog\", \"tac\", \"god\", \"act\"] \n",
    "    printAnagramsTogether(arr)"
   ]
  },
  {
   "cell_type": "code",
   "execution_count": 14,
   "metadata": {},
   "outputs": [
    {
     "name": "stdout",
     "output_type": "stream",
     "text": [
      "defaultdict(<class 'list'>, {})\n"
     ]
    }
   ],
   "source": [
    "print(defaultdict(list))"
   ]
  },
  {
   "cell_type": "code",
   "execution_count": 63,
   "metadata": {},
   "outputs": [
    {
     "name": "stdout",
     "output_type": "stream",
     "text": [
      "['cat', 'tac', 'act']\n",
      "['dog', 'god']\n"
     ]
    }
   ],
   "source": [
    "# my way\n",
    "def anagrams(lst1):\n",
    "    lst2 = []\n",
    "    lst3 = []\n",
    "    for i in range(len(lst1)):\n",
    "        for j in lst1:\n",
    "            if(i>=1):\n",
    "                break\n",
    "            elif sorted(lst1[i])==sorted(j):\n",
    "                lst2.append(j)\n",
    "            else:\n",
    "                lst3.append(j)\n",
    "    print(lst2)\n",
    "    print(lst3)\n",
    "\n",
    "arr =  [\"cat\", \"dog\", \"tac\", \"god\", \"act\"] \n",
    "anagrams(arr)"
   ]
  },
  {
   "cell_type": "code",
   "execution_count": null,
   "metadata": {},
   "outputs": [],
   "source": []
  }
 ],
 "metadata": {
  "kernelspec": {
   "display_name": "Python 3",
   "language": "python",
   "name": "python3"
  },
  "language_info": {
   "codemirror_mode": {
    "name": "ipython",
    "version": 3
   },
   "file_extension": ".py",
   "mimetype": "text/x-python",
   "name": "python",
   "nbconvert_exporter": "python",
   "pygments_lexer": "ipython3",
   "version": "3.8.5"
  }
 },
 "nbformat": 4,
 "nbformat_minor": 4
}
