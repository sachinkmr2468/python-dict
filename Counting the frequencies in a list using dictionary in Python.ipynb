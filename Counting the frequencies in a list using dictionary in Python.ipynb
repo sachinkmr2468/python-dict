{
 "cells": [
  {
   "cell_type": "markdown",
   "metadata": {},
   "source": [
    "# Counting the frequencies in a list using dictionary in Python"
   ]
  },
  {
   "cell_type": "code",
   "execution_count": 79,
   "metadata": {},
   "outputs": [
    {
     "name": "stdout",
     "output_type": "stream",
     "text": [
      " 1 :  5\n",
      " 5 :  2\n",
      " 3 :  3\n",
      " 4 :  3\n",
      " 2 :  4\n"
     ]
    }
   ],
   "source": [
    "def CountFrequency(my_list):\n",
    "  \n",
    "    # Creating an empty dictionary \n",
    "    freq = {}\n",
    "    for item in my_list:\n",
    "        if (item in freq):\n",
    "            freq[item] += 1\n",
    "        else:\n",
    "            freq[item] = 1\n",
    "  \n",
    "    for key, value in freq.items():\n",
    "        print (\"% d : % d\"%(key, value))\n",
    "  \n",
    "# Driver function\n",
    "if __name__ == \"__main__\": \n",
    "    my_list =[1, 1, 1, 5, 5, 3, 1, 3, 3, 1, 4, 4, 4, 2, 2, 2, 2]\n",
    "  \n",
    "    CountFrequency(my_list)"
   ]
  },
  {
   "cell_type": "code",
   "execution_count": 115,
   "metadata": {},
   "outputs": [
    {
     "name": "stdout",
     "output_type": "stream",
     "text": [
      "(1, 5)\n",
      "(5, 2)\n",
      "(3, 3)\n",
      "(4, 3)\n",
      "(2, 4)\n"
     ]
    }
   ],
   "source": [
    "def count(input):\n",
    "    feq = {}\n",
    "    for i in input:\n",
    "        if i in feq:\n",
    "            feq[i]+=1\n",
    "        else:\n",
    "            feq[i] = 1\n",
    "    for i in feq.items():\n",
    "        print(i)\n",
    "\n",
    "my_list =[1, 1, 1, 5, 5, 3, 1, 3, 3, 1, 4, 4, 4, 2, 2, 2, 2]\n",
    "count(my_list)"
   ]
  },
  {
   "cell_type": "code",
   "execution_count": 114,
   "metadata": {},
   "outputs": [
    {
     "name": "stdout",
     "output_type": "stream",
     "text": [
      "here go ('e', 4)\n",
      "here go ('f', 1)\n",
      "here go ('g', 2)\n",
      "here go ('k', 2)\n",
      "here go ('o', 1)\n",
      "here go ('r', 1)\n",
      "here go ('s', 2)\n",
      "1st least frequest= f\n",
      "2nd least frequent= o\n",
      "3rd least frequent= r\n"
     ]
    }
   ],
   "source": [
    "#K’th Non-repeating Character in Python using Lis n dict\n",
    "def check(name,k):\n",
    "    feq = {}\n",
    "    str1 = sorted(name)\n",
    "    str2 = []\n",
    "    for i in str1:\n",
    "        if i in feq:\n",
    "            feq[i] += 1\n",
    "        else:\n",
    "            feq[i]= 1\n",
    "    for i in feq.items():\n",
    "        print('here go',i)\n",
    "    for i in feq:\n",
    "        if feq[i]==1:\n",
    "            str2.append(i)\n",
    "    str3 = sorted(str2)\n",
    "    print('1st least frequest=',str3[0])\n",
    "    print('2nd least frequent=', str3[1])\n",
    "    print('3rd least frequent=',str3[2])   \n",
    "       \n",
    "       \n",
    "        \n",
    "str = 'geeksforgeeks'\n",
    "k = 2\n",
    "check(str,k)"
   ]
  },
  {
   "cell_type": "code",
   "execution_count": null,
   "metadata": {},
   "outputs": [],
   "source": []
  }
 ],
 "metadata": {
  "kernelspec": {
   "display_name": "Python 3",
   "language": "python",
   "name": "python3"
  },
  "language_info": {
   "codemirror_mode": {
    "name": "ipython",
    "version": 3
   },
   "file_extension": ".py",
   "mimetype": "text/x-python",
   "name": "python",
   "nbconvert_exporter": "python",
   "pygments_lexer": "ipython3",
   "version": "3.8.5"
  }
 },
 "nbformat": 4,
 "nbformat_minor": 4
}
