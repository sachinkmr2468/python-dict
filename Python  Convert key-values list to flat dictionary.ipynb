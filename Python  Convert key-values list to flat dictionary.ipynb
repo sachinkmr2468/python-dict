{
 "cells": [
  {
   "cell_type": "markdown",
   "metadata": {},
   "source": [
    "# Python – Convert key-values list to flat dictionary"
   ]
  },
  {
   "cell_type": "code",
   "execution_count": 58,
   "metadata": {},
   "outputs": [
    {
     "name": "stdout",
     "output_type": "stream",
     "text": [
      "{'a': 'A', 'b': 'B', 'c': 'C'}\n"
     ]
    }
   ],
   "source": [
    "# list of tuples\n",
    "list_of_tuples = [('a', 'A'), ('b', 'B'), ('c', 'C')]\n",
    "\n",
    "# converting to dictionary\n",
    "list_of_tuples_dict = dict(list_of_tuples)\n",
    "\n",
    "# printing the result dict\n",
    "print(list_of_tuples_dict)"
   ]
  },
  {
   "cell_type": "code",
   "execution_count": 59,
   "metadata": {},
   "outputs": [
    {
     "name": "stdout",
     "output_type": "stream",
     "text": [
      "The original dictionary is : {'month': [1, 2, 3], 'name': ['Jan', 'Feb', 'March']}\n",
      "Flattened dictionary : {1: 'Jan', 2: 'Feb', 3: 'March'}\n"
     ]
    }
   ],
   "source": [
    "\n",
    "from itertools import product\n",
    "  \n",
    "\n",
    "test_dict = {'month' : [1, 2, 3],\n",
    "             'name' : ['Jan', 'Feb', 'March']}\n",
    "  \n",
    "# printing original dictionary\n",
    "print(\"The original dictionary is : \" + str(test_dict))\n",
    "  \n",
    "# Convert key-values list to flat dictionary\n",
    "# Using dict() + zip()\n",
    "res = dict(zip(test_dict['month'], test_dict['name']))\n",
    "  \n",
    "# printing result \n",
    "print(\"Flattened dictionary : \" + str(res))"
   ]
  },
  {
   "cell_type": "code",
   "execution_count": 62,
   "metadata": {},
   "outputs": [
    {
     "name": "stdout",
     "output_type": "stream",
     "text": [
      "{1: 'Jan', 2: 'Feb', 3: 'March'}\n"
     ]
    }
   ],
   "source": [
    "test = {'month' : [1, 2, 3],\n",
    "             'name' : ['Jan', 'Feb', 'March']}\n",
    "res = dict(zip(test['month'], test['name']))\n",
    "print(res)"
   ]
  },
  {
   "cell_type": "code",
   "execution_count": 63,
   "metadata": {},
   "outputs": [
    {
     "name": "stdout",
     "output_type": "stream",
     "text": [
      "{'a': 'A', 'b': 'B', 'c': 'C', 'd': None}\n"
     ]
    }
   ],
   "source": [
    "# importing the module\n",
    "import itertools\n",
    "\n",
    "# plain list with odd number of elements\n",
    "plain_list = ['a', 'A', 'b', 'B', 'c', 'C', 'd']\n",
    "\n",
    "# converting it to iterable to avoid repetition\n",
    "plain_list_iter = iter(plain_list)\n",
    "\n",
    "# converting the plain_list to dict\n",
    "plain_list_dict_object = itertools.zip_longest(plain_list_iter, plain_list_iter, fillvalue=None)\n",
    "\n",
    "# convert the zip_longest object to dict using `dict`\n",
    "plain_list_dict = dict(plain_list_dict_object)\n",
    "\n",
    "# print it\n",
    "print(plain_list_dict)"
   ]
  },
  {
   "cell_type": "code",
   "execution_count": 64,
   "metadata": {},
   "outputs": [
    {
     "name": "stdout",
     "output_type": "stream",
     "text": [
      "{'a': 'A', 'b': 'B', 'c': 'C'}\n"
     ]
    }
   ],
   "source": [
    "# list of tuples\n",
    "list_of_tuples = [('a', 'A'), ('b', 'B'), ('c', 'C')]\n",
    "\n",
    "# converting to dictionary\n",
    "list_of_tuples_dict = dict(list_of_tuples)\n",
    "\n",
    "# printing the result dict\n",
    "print(list_of_tuples_dict)"
   ]
  },
  {
   "cell_type": "code",
   "execution_count": null,
   "metadata": {},
   "outputs": [],
   "source": []
  }
 ],
 "metadata": {
  "kernelspec": {
   "display_name": "Python 3",
   "language": "python",
   "name": "python3"
  },
  "language_info": {
   "codemirror_mode": {
    "name": "ipython",
    "version": 3
   },
   "file_extension": ".py",
   "mimetype": "text/x-python",
   "name": "python",
   "nbconvert_exporter": "python",
   "pygments_lexer": "ipython3",
   "version": "3.8.5"
  }
 },
 "nbformat": 4,
 "nbformat_minor": 4
}
