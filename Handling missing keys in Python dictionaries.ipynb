{
 "cells": [
  {
   "cell_type": "markdown",
   "metadata": {},
   "source": [
    "# Handling missing keys in Python dictionaries"
   ]
  },
  {
   "cell_type": "code",
   "execution_count": 80,
   "metadata": {},
   "outputs": [],
   "source": [
    "#In python, dictionaries are containers which map one key to its value with access time complexity to be O(1).\n",
    "#But in many applications, the user doesn’t know all the keys present in the dictionaries. In such instances, \n",
    "#if user tries to access a missing key, an error is popped indicating missing keys.\n",
    "#get(key,def_val) method is useful when we have to check for the key.\n",
    "#If the key is present, value associated with the key is printed, else the def_value passed in arguments is returned"
   ]
  },
  {
   "cell_type": "code",
   "execution_count": 95,
   "metadata": {},
   "outputs": [
    {
     "name": "stdout",
     "output_type": "stream",
     "text": [
      "0091\n",
      "0091\n",
      "not found\n"
     ]
    }
   ],
   "source": [
    "country = {'India' : '0091',\n",
    "                'Australia' : '0025',\n",
    "                'Nepal' : '00977'}\n",
    "print(country['India'])\n",
    "print(country.get('India','not found')) # if key is present it will print its value\n",
    "print(country.get('japan','not found')) # if key not prsent it will print the default value"
   ]
  },
  {
   "cell_type": "code",
   "execution_count": 96,
   "metadata": {},
   "outputs": [],
   "source": [
    "#Method 2 : Using setdefault()\n",
    "\n",
    "#setdefault(key, def_value) works in a similar way as get(), but the difference is that each time a key is absent, \n",
    "#a new key is created with the def_value associated to the key passed in arguments."
   ]
  },
  {
   "cell_type": "code",
   "execution_count": 100,
   "metadata": {},
   "outputs": [
    {
     "name": "stdout",
     "output_type": "stream",
     "text": [
      "0091\n",
      "not found\n",
      "{'India': '0091', 'Australia': '0025', 'Nepal': '00977', 'Japan': 'not found'}\n"
     ]
    }
   ],
   "source": [
    "country = {'India' : '0091',\n",
    "                'Australia' : '0025',\n",
    "                'Nepal' : '00977'}\n",
    "print(country.setdefault('India','not found'))\n",
    "print(country.setdefault('Japan','not found')) # this will create new key with its value\n",
    "print(country) # new key will be printed with the other keys"
   ]
  },
  {
   "cell_type": "code",
   "execution_count": null,
   "metadata": {},
   "outputs": [],
   "source": []
  }
 ],
 "metadata": {
  "kernelspec": {
   "display_name": "Python 3",
   "language": "python",
   "name": "python3"
  },
  "language_info": {
   "codemirror_mode": {
    "name": "ipython",
    "version": 3
   },
   "file_extension": ".py",
   "mimetype": "text/x-python",
   "name": "python",
   "nbconvert_exporter": "python",
   "pygments_lexer": "ipython3",
   "version": "3.8.5"
  }
 },
 "nbformat": 4,
 "nbformat_minor": 4
}
