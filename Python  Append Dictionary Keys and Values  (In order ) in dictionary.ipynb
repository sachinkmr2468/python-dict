{
 "cells": [
  {
   "cell_type": "markdown",
   "metadata": {},
   "source": [
    "# Initializing"
   ]
  },
  {
   "cell_type": "code",
   "execution_count": 8,
   "metadata": {},
   "outputs": [
    {
     "name": "stdout",
     "output_type": "stream",
     "text": [
      "Counter({'b': 3, 'a': 2, 'c': 1})\n",
      "Counter({'b': 3, 'a': 2, 'c': 1})\n",
      "Counter({'b': 3, 'a': 2, 'c': 1})\n"
     ]
    }
   ],
   "source": [
    "# use of counter() in case of dict\n",
    "# https://pymotw.com/2/collections/counter.html visit for more info\n",
    "import collections\n",
    "\n",
    "print (collections.Counter(['a', 'b', 'c', 'a', 'b', 'b']))\n",
    "print( collections.Counter({'a':2, 'b':3, 'c':1}))\n",
    "print (collections.Counter(a=2, b=3, c=1))"
   ]
  },
  {
   "cell_type": "code",
   "execution_count": 16,
   "metadata": {},
   "outputs": [
    {
     "name": "stdout",
     "output_type": "stream",
     "text": [
      "Counter({'b': 3, 'a': 2, 'c': 1})\n"
     ]
    }
   ],
   "source": [
    "#  keyword arguments mapping string names to counts.\n",
    "from collections import Counter\n",
    "\n",
    "d = ['a', 'b', 'c', 'a', 'b', 'b']\n",
    "d1 = Counter(d)\n",
    "print(d1)"
   ]
  },
  {
   "cell_type": "code",
   "execution_count": 20,
   "metadata": {},
   "outputs": [
    {
     "name": "stdout",
     "output_type": "stream",
     "text": [
      "Counter({'b': 3, 'a': 2, 'c': 1})\n"
     ]
    }
   ],
   "source": [
    "# a dictionary containing keys and counts,\n",
    "d = {'a':2, 'b':3, 'c':1}\n",
    "d1 = Counter(d)\n",
    "print(d1)\n"
   ]
  },
  {
   "cell_type": "code",
   "execution_count": 24,
   "metadata": {},
   "outputs": [
    {
     "name": "stdout",
     "output_type": "stream",
     "text": [
      "Counter({'b': 3, 'a': 2, 'c': 1})\n"
     ]
    }
   ],
   "source": [
    "\n",
    "print (collections.Counter(a=2, b=3, c=1))"
   ]
  },
  {
   "cell_type": "code",
   "execution_count": 40,
   "metadata": {},
   "outputs": [
    {
     "name": "stdout",
     "output_type": "stream",
     "text": [
      "[1, 2, 3] ['Gfg', 'is', 'Best']\n",
      "['Gfg', 'is', 'Best', 1, 2, 3]\n"
     ]
    }
   ],
   "source": [
    "test = {'Gfg' : 1, 'is' : 2, 'Best' : 3}\n",
    "test1 = []\n",
    "test2 = []\n",
    "for i in test.values():\n",
    "    test1.append(i)\n",
    "     \n",
    "for i in test.keys():\n",
    "    test2.append(i)\n",
    "print(test1,test2)\n",
    "test3 = test2 + test1\n",
    "print(test3)\n",
    "\n"
   ]
  },
  {
   "cell_type": "code",
   "execution_count": null,
   "metadata": {},
   "outputs": [],
   "source": []
  }
 ],
 "metadata": {
  "kernelspec": {
   "display_name": "Python 3",
   "language": "python",
   "name": "python3"
  },
  "language_info": {
   "codemirror_mode": {
    "name": "ipython",
    "version": 3
   },
   "file_extension": ".py",
   "mimetype": "text/x-python",
   "name": "python",
   "nbconvert_exporter": "python",
   "pygments_lexer": "ipython3",
   "version": "3.8.5"
  }
 },
 "nbformat": 4,
 "nbformat_minor": 4
}
