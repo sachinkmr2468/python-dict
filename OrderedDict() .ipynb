{
 "cells": [
  {
   "cell_type": "code",
   "execution_count": 4,
   "metadata": {},
   "outputs": [
    {
     "name": "stdout",
     "output_type": "stream",
     "text": [
      "OrderedDict()\n",
      "OrderedDict([('kiwi', 4), ('apple', 5), ('cat', 3)])\n"
     ]
    }
   ],
   "source": [
    "# Python OrderedDict is a dict subclass that maintains the items insertion order. \n",
    "# When we iterate over an OrderedDict, items are returned in the order they were inserted\n",
    "# mainly we use when we have to insert/move/delete the data based on our requirment.\n",
    "from collections import OrderedDict\n",
    "\n",
    "# creating a simple dict\n",
    "my_dict = {'kiwi': 4, 'apple': 5, 'cat': 3}\n",
    "\n",
    "# creating empty ordered dict\n",
    "ordered_dict = OrderedDict()\n",
    "print(ordered_dict)\n",
    "\n",
    "# creating ordered dict from dict\n",
    "ordered_dict = OrderedDict(my_dict)\n",
    "print(ordered_dict)"
   ]
  },
  {
   "cell_type": "markdown",
   "metadata": {},
   "source": [
    "# regular dic, insertion/updation"
   ]
  },
  {
   "cell_type": "code",
   "execution_count": 22,
   "metadata": {},
   "outputs": [
    {
     "name": "stdout",
     "output_type": "stream",
     "text": [
      "{'kiwi': 4, 'apple': 5, 'cat': 3, 'dog': 4}\n"
     ]
    }
   ],
   "source": [
    "dicts = { 'kiwi':4,'apple':5, 'cat':3}\n",
    "dicts['dog'] = 4 # if the key is nt present then it will be added at the end\n",
    "print(dicts)"
   ]
  },
  {
   "cell_type": "code",
   "execution_count": 23,
   "metadata": {},
   "outputs": [
    {
     "name": "stdout",
     "output_type": "stream",
     "text": [
      "{'kiwi': 5, 'apple': 5, 'cat': 3}\n"
     ]
    }
   ],
   "source": [
    "dicts = { 'kiwi':4,'apple':5, 'cat':3}\n",
    "dicts['kiwi'] = 5 # if the key is present then it will update its value and maintine its position\n",
    "print(dicts)"
   ]
  },
  {
   "cell_type": "code",
   "execution_count": 24,
   "metadata": {},
   "outputs": [
    {
     "name": "stdout",
     "output_type": "stream",
     "text": [
      "{'kiwi': 4, 'apple': 5, 'cat': 3, 'dog': 4}\n"
     ]
    }
   ],
   "source": [
    "dicts = { 'kiwi':4,'apple':5, 'cat':3}\n",
    "dicts.update({'dog':4}) # if the key is nt present then it will update its value and maintine its position\n",
    "print(dicts)"
   ]
  },
  {
   "cell_type": "code",
   "execution_count": 25,
   "metadata": {},
   "outputs": [
    {
     "name": "stdout",
     "output_type": "stream",
     "text": [
      "{'kiwi': 5, 'apple': 5, 'cat': 3}\n"
     ]
    }
   ],
   "source": [
    "dicts = { 'kiwi':4,'apple':5, 'cat':3}\n",
    "dicts.update({'kiwi':5}) # if the key is present then it will update its value and maintine its position\n",
    "print(dicts)"
   ]
  },
  {
   "cell_type": "markdown",
   "metadata": {},
   "source": [
    "# Adding, Replacing, Removing items from OrderedDict"
   ]
  },
  {
   "cell_type": "code",
   "execution_count": 29,
   "metadata": {},
   "outputs": [
    {
     "name": "stdout",
     "output_type": "stream",
     "text": [
      "{'apple': 5, 'cat': 3}\n",
      "{'apple': 5, 'cat': 3, 'kiwi': 4}\n"
     ]
    }
   ],
   "source": [
    "from collections import OrderedDict\n",
    "dicts = { 'kiwi':4,'apple':5, 'cat':3}\n",
    "dicts.pop('kiwi')  \n",
    "print(dicts)\n",
    "dicts['kiwi'] = 4 # will  add at the last position\n",
    "print(dicts)"
   ]
  },
  {
   "cell_type": "code",
   "execution_count": 72,
   "metadata": {},
   "outputs": [
    {
     "name": "stdout",
     "output_type": "stream",
     "text": [
      "OrderedDict()\n",
      "OrderedDict([('kiwi', 4), ('apple', 5), ('cat', 3)])\n",
      "OrderedDict([('kiwi', 4), ('apple', 5), ('cat', 3), ('dog', 3)])\n"
     ]
    }
   ],
   "source": [
    "from collections import OrderedDict\n",
    "dicts = { 'kiwi':4,'apple':5, 'cat':3}\n",
    "\n",
    "dicts1 = OrderedDict()\n",
    "print(dicts1)\n",
    "dicts1 = OrderedDict(dicts)\n",
    "print(dicts1)\n",
    "dicts1['dog'] = 3\n",
    "print(dicts1)"
   ]
  },
  {
   "cell_type": "code",
   "execution_count": 73,
   "metadata": {},
   "outputs": [
    {
     "name": "stdout",
     "output_type": "stream",
     "text": [
      "OrderedDict([('kiwi', 4), ('apple', 5), ('cat', 3)])\n",
      "OrderedDict([('kiwi', 4), ('apple', 5), ('cat', 3), ('dog', 3)])\n",
      "OrderedDict([('kiwi', 5), ('apple', 5), ('cat', 3), ('dog', 3)])\n"
     ]
    }
   ],
   "source": [
    "from collections import OrderedDict\n",
    "dicts = { 'kiwi':4,'apple':5, 'cat':3}\n",
    "dicts1 = OrderedDict(dicts)\n",
    "print(dicts1)\n",
    "dicts1['dog'] = 3 # if the key is nt present then it will be added at the end\n",
    "print(dicts1)\n",
    "dicts1['kiwi'] = 5 # if the key is present then it will update its value and mantine its position\n",
    "print(dicts1)"
   ]
  },
  {
   "cell_type": "markdown",
   "metadata": {},
   "source": [
    "# .move_to_end('key') - will move the data to the last position\n",
    "# .move_to_end('key',True) - will move the data to the last position\n",
    "# .move_to_end('key',False) - will move the data to the last position\n",
    "# always create an empty OrderedDict() and pass the existing dict to it before using its methods so it should nt raise any error."
   ]
  },
  {
   "cell_type": "code",
   "execution_count": 76,
   "metadata": {},
   "outputs": [
    {
     "name": "stdout",
     "output_type": "stream",
     "text": [
      "OrderedDict([('kiwi', 4), ('apple', 5), ('cat', 3)])\n"
     ]
    }
   ],
   "source": [
    "from collections import OrderedDict\n",
    "dicts = { 'kiwi':4,'apple':5, 'cat':3}\n",
    "dicts1 = OrderedDict(dicts)\n",
    "dicts1.move_to_end('kiwi', False) # this will put the key to the firstpostion, data insertion will happend at the 1st postion\n",
    "print(dicts1)"
   ]
  },
  {
   "cell_type": "code",
   "execution_count": 70,
   "metadata": {},
   "outputs": [
    {
     "name": "stdout",
     "output_type": "stream",
     "text": [
      "OrderedDict([('apple', 5), ('cat', 3), ('kiwi', 4)])\n"
     ]
    }
   ],
   "source": [
    "from collections import OrderedDict\n",
    "dicts = { 'kiwi':4,'apple':5, 'cat':3}\n",
    "dicts1 = OrderedDict(dicts)\n",
    "dicts1.move_to_end('kiwi', True) # this will put the key to the firstpostion, data insertion will happend at the last postion\n",
    "print(dicts1)\n"
   ]
  },
  {
   "cell_type": "code",
   "execution_count": 74,
   "metadata": {},
   "outputs": [
    {
     "name": "stdout",
     "output_type": "stream",
     "text": [
      "OrderedDict([('kiwi', 4), ('cat', 3), ('apple', 5)])\n"
     ]
    }
   ],
   "source": [
    "from collections import OrderedDict\n",
    "dicts = { 'kiwi':4,'apple':5, 'cat':3}\n",
    "dicts1 = OrderedDict(dicts)\n",
    "dicts1.move_to_end('apple') # this will put the key to the lastpostion, data insertion will happend at the last postion\n",
    "print(dicts1)"
   ]
  },
  {
   "cell_type": "markdown",
   "metadata": {},
   "source": [
    "# OrderedDict popitem example\n",
    "#if we write popitem(True), will remove data from the last vice-versa"
   ]
  },
  {
   "cell_type": "code",
   "execution_count": 67,
   "metadata": {},
   "outputs": [
    {
     "name": "stdout",
     "output_type": "stream",
     "text": [
      "OrderedDict([('kiwi', 4), ('apple', 5), ('cat', 3)])\n",
      "('cat', 3)\n",
      "{'kiwi': 4, 'apple': 5, 'cat': 3}\n",
      "OrderedDict([('kiwi', 4), ('apple', 5)])\n"
     ]
    }
   ],
   "source": [
    "# we have already import OrderedDict one , no needed to be imported again\n",
    "dicts = { 'kiwi':4,'apple':5, 'cat':3}\n",
    "dict1 = OrderedDict(dicts)\n",
    "print(dict1)\n",
    "item = dict1.popitem(True) # True will help to  remove the last position\n",
    "print(item)\n",
    "print(dicts)\n",
    "print(dict1)"
   ]
  },
  {
   "cell_type": "code",
   "execution_count": 59,
   "metadata": {},
   "outputs": [
    {
     "name": "stdout",
     "output_type": "stream",
     "text": [
      "OrderedDict([('kiwi', 4), ('apple', 5), ('cat', 3)])\n",
      "('kiwi', 4)\n",
      "{'kiwi': 4, 'apple': 5, 'cat': 3}\n",
      "OrderedDict([('apple', 5), ('cat', 3)])\n"
     ]
    }
   ],
   "source": [
    "from collections import OrderedDict\n",
    "dicts = { 'kiwi':4,'apple':5, 'cat':3}\n",
    "dict1 = OrderedDict(dicts)\n",
    "print(dict1)\n",
    "item = dict1.popitem(False) # True will help to  remove the first position\n",
    "print(item)\n",
    "print(dicts)\n",
    "print(dict1)\n"
   ]
  },
  {
   "cell_type": "markdown",
   "metadata": {},
   "source": [
    "# reversed()  function can be used for itteration in reverse direction\n",
    "# for normal itteration just use the for loop in normal way"
   ]
  },
  {
   "cell_type": "code",
   "execution_count": 66,
   "metadata": {},
   "outputs": [
    {
     "name": "stdout",
     "output_type": "stream",
     "text": [
      "cat\n",
      "apple\n",
      "kiwi\n",
      "('cat', 3)\n",
      "('apple', 5)\n",
      "('kiwi', 4)\n"
     ]
    }
   ],
   "source": [
    "# OrderedDict Reverse Iteration\n",
    "# we can use reversed() function with OrderedDict to iterate elements in the reverse order.\n",
    "from collections import OrderedDict\n",
    "dicts = { 'kiwi':4,'apple':5, 'cat':3}\n",
    "for i in reversed(dicts):\n",
    "    print(i)\n",
    "for j in reversed(dicts.items()):\n",
    "    print(j)"
   ]
  },
  {
   "cell_type": "code",
   "execution_count": 78,
   "metadata": {},
   "outputs": [
    {
     "name": "stdout",
     "output_type": "stream",
     "text": [
      "kiwi\n",
      "apple\n",
      "cat\n",
      "('kiwi', 4)\n",
      "('apple', 5)\n",
      "('cat', 3)\n"
     ]
    }
   ],
   "source": [
    "# OrderedDict Reverse Iteration\n",
    "# we can use reversed() function with OrderedDict to iterate elements in the reverse order.\n",
    "from collections import OrderedDict\n",
    "dicts = { 'kiwi':4,'apple':5, 'cat':3}\n",
    "for i in dicts:\n",
    "    print(i)\n",
    "    \n",
    "for j in (dicts.items()):\n",
    "    print(j)\n",
    "   "
   ]
  },
  {
   "cell_type": "markdown",
   "metadata": {},
   "source": [
    "# OrderedDict Equality Tests Example\n",
    "#equality tests between OrderedDict objects are order-sensitive and are implemented as list(od1.items())==list(od2.items())\n",
    "#means items in both the dict should be in the same order including the case sensitive\n",
    "#Equality tests between OrderedDict and other Mapping objects are order-insensitive like regular dictionaries. \n",
    "#which means it will just look up for the key and its value considering the case sensitive as well.\n",
    "#This allows OrderedDict objects to be substituted anywhere a regular dictionary is used."
   ]
  },
  {
   "cell_type": "code",
   "execution_count": 65,
   "metadata": {},
   "outputs": [
    {
     "name": "stdout",
     "output_type": "stream",
     "text": [
      "True\n",
      "False\n",
      "True\n",
      "False\n",
      "False\n"
     ]
    }
   ],
   "source": [
    "# equality tests\n",
    "d1 = {'a': 'A', 'b': 'B'}\n",
    "d2 = {'b': 'B', 'a': 'A'}\n",
    "d3 = {'a': 'a', 'b':'B'}\n",
    "\n",
    "od1 = OrderedDict({'a': 'A', 'b': 'B'})\n",
    "od2 = OrderedDict({'b': 'B', 'a': 'A'})\n",
    "od3 = OrderedDict({'a': 'a', 'b': 'B'})\n",
    "\n",
    "print(d1 == d2) # it will just match the key, case sensitive is also consedered\n",
    "print(od1 == od2) # Ordering of items are not same , result false\n",
    "print(d1 == od1) # ordering of items are same, result true\n",
    "print(d1==d3) #it will just match the key, case sensitive is also consedered, result false\n",
    "print(od1==od3) # # Ordering of items are same , bt its nt matching with case sensitive, result false\n"
   ]
  },
  {
   "cell_type": "code",
   "execution_count": null,
   "metadata": {},
   "outputs": [],
   "source": []
  }
 ],
 "metadata": {
  "kernelspec": {
   "display_name": "Python 3",
   "language": "python",
   "name": "python3"
  },
  "language_info": {
   "codemirror_mode": {
    "name": "ipython",
    "version": 3
   },
   "file_extension": ".py",
   "mimetype": "text/x-python",
   "name": "python",
   "nbconvert_exporter": "python",
   "pygments_lexer": "ipython3",
   "version": "3.8.5"
  }
 },
 "nbformat": 4,
 "nbformat_minor": 4
}
