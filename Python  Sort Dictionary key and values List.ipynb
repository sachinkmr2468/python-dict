{
 "cells": [
  {
   "cell_type": "markdown",
   "metadata": {},
   "source": [
    "# Python – Sort Dictionary key and values List"
   ]
  },
  {
   "cell_type": "markdown",
   "metadata": {},
   "source": [
    "#Using sorted() + loop"
   ]
  },
  {
   "cell_type": "code",
   "execution_count": 53,
   "metadata": {},
   "outputs": [
    {
     "name": "stdout",
     "output_type": "stream",
     "text": [
      "('best', [19, 4])\n",
      "('gfg', [7, 6, 3])\n",
      "('is', [2, 10, 3])\n"
     ]
    }
   ],
   "source": [
    "test = {'gfg': [7, 6, 3], \n",
    "             'is': [2, 10, 3], \n",
    "             'best': [19, 4]}\n",
    "\n",
    "for i in sorted(test.items()): # this sort the key in asen\n",
    "    print(i)"
   ]
  },
  {
   "cell_type": "code",
   "execution_count": 67,
   "metadata": {},
   "outputs": [
    {
     "name": "stdout",
     "output_type": "stream",
     "text": [
      "{'best': [4, 19], 'gfg': [3, 6, 7], 'is': [2, 3, 10]}\n"
     ]
    }
   ],
   "source": [
    "test = {'gfg': [7, 6, 3], \n",
    "             'is': [2, 10, 3], \n",
    "             'best': [19, 4]}\n",
    "res = {}\n",
    "for i in sorted(test):\n",
    "    res[i] = sorted(test[i]) # this sort both the key and values in sort\n",
    "print(res)\n"
   ]
  },
  {
   "cell_type": "code",
   "execution_count": 77,
   "metadata": {},
   "outputs": [
    {
     "name": "stdout",
     "output_type": "stream",
     "text": [
      "{'is': [10, 3, 2], 'gfg': [7, 6, 3], 'best': [19, 4]}\n"
     ]
    }
   ],
   "source": [
    "test = {'gfg': [7, 6, 3], \n",
    "             'is': [2, 10, 3], \n",
    "             'best': [19, 4]}\n",
    "res = {}\n",
    "for i in sorted(test.keys(), reverse=True):\n",
    "    res[i] = sorted(test[i], reverse= True) # sort key, val in decending\n",
    "    \n",
    "print(res)"
   ]
  },
  {
   "cell_type": "code",
   "execution_count": 79,
   "metadata": {},
   "outputs": [
    {
     "name": "stdout",
     "output_type": "stream",
     "text": [
      "{'is': [2, 3, 10], 'gfg': [3, 6, 7], 'best': [4, 19]}\n"
     ]
    }
   ],
   "source": [
    "test = {'gfg': [7, 6, 3], \n",
    "             'is': [2, 10, 3], \n",
    "             'best': [19, 4]}\n",
    "res = {}\n",
    "for i in sorted(test.keys(), reverse=True): # sort key in des and value in asscending\n",
    "    res[i] = sorted(test[i])\n",
    "    \n",
    "print(res)"
   ]
  },
  {
   "cell_type": "code",
   "execution_count": null,
   "metadata": {},
   "outputs": [],
   "source": []
  }
 ],
 "metadata": {
  "kernelspec": {
   "display_name": "Python 3",
   "language": "python",
   "name": "python3"
  },
  "language_info": {
   "codemirror_mode": {
    "name": "ipython",
    "version": 3
   },
   "file_extension": ".py",
   "mimetype": "text/x-python",
   "name": "python",
   "nbconvert_exporter": "python",
   "pygments_lexer": "ipython3",
   "version": "3.8.5"
  }
 },
 "nbformat": 4,
 "nbformat_minor": 4
}
