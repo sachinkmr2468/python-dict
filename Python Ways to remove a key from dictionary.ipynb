{
 "cells": [
  {
   "cell_type": "markdown",
   "metadata": {},
   "source": [
    "# Python | Ways to remove a key from dictionary"
   ]
  },
  {
   "cell_type": "code",
   "execution_count": 9,
   "metadata": {},
   "outputs": [
    {
     "name": "stdout",
     "output_type": "stream",
     "text": [
      "before removing items {'Arushi': 22, 'Anuradha': 21, 'Mani': 21, 'Haritha': 21}\n",
      "after removal {'Mani': 21, 'Haritha': 21}\n"
     ]
    }
   ],
   "source": [
    "test_dict = {\"Arushi\" : 22, \"Anuradha\" : 21, \"Mani\" : 21, \"Haritha\" : 21}\n",
    "print('before removing items', test_dict)\n",
    "test_dict\n",
    "del test_dict['Arushi']\n",
    "test_dict.pop('Anuradha')\n",
    "print('after removal',test_dict)"
   ]
  },
  {
   "cell_type": "code",
   "execution_count": 15,
   "metadata": {},
   "outputs": [
    {
     "name": "stdout",
     "output_type": "stream",
     "text": [
      "before removing items {'Arushi': 22, 'Anuradha': 21, 'Mani': 21, 'Haritha': 21}\n",
      "after removal= {'Arushi': 22, 'Anuradha': 21, 'Mani': 21}\n"
     ]
    }
   ],
   "source": [
    "test = {\"Arushi\" : 22, \"Anuradha\" : 21, \"Mani\" : 21, \"Haritha\" : 21}\n",
    "print('before removing items', test_dict)\n",
    "test.popitem()\n",
    "print('after removal=', test)"
   ]
  },
  {
   "cell_type": "code",
   "execution_count": null,
   "metadata": {},
   "outputs": [],
   "source": []
  }
 ],
 "metadata": {
  "kernelspec": {
   "display_name": "Python 3",
   "language": "python",
   "name": "python3"
  },
  "language_info": {
   "codemirror_mode": {
    "name": "ipython",
    "version": 3
   },
   "file_extension": ".py",
   "mimetype": "text/x-python",
   "name": "python",
   "nbconvert_exporter": "python",
   "pygments_lexer": "ipython3",
   "version": "3.8.5"
  }
 },
 "nbformat": 4,
 "nbformat_minor": 4
}
