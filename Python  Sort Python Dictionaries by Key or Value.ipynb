{
 "cells": [
  {
   "cell_type": "markdown",
   "metadata": {},
   "source": [
    "# Python | Sort Python Dictionaries by Key or Value"
   ]
  },
  {
   "cell_type": "code",
   "execution_count": 47,
   "metadata": {},
   "outputs": [
    {
     "name": "stdout",
     "output_type": "stream",
     "text": [
      "{2: 64, 1: 69, 4: 23, 5: 65, 6: 34, 3: 76}\n",
      "[1, 2, 3, 4, 5, 6]\n",
      "[23, 34, 64, 65, 69, 76]\n",
      "[(1, 69), (2, 64), (3, 76), (4, 23), (5, 65), (6, 34)]\n",
      "[6, 5, 4, 3, 2, 1]\n"
     ]
    }
   ],
   "source": [
    "test = {}\n",
    "test[2] = 64\n",
    "test[1] = 69\n",
    "test[4] = 23\n",
    "test[5] = 65\n",
    "test[6] = 34\n",
    "test[3] = 76\n",
    "test\n",
    "# will need to sort the keys and values in assending order\n",
    "print(test)\n",
    "print(sorted(test.keys()))\n",
    "print(sorted(test.values()))\n",
    "print(sorted(test.items()))\n",
    "print(sorted(test.keys(), reverse=True))"
   ]
  },
  {
   "cell_type": "code",
   "execution_count": 49,
   "metadata": {},
   "outputs": [
    {
     "name": "stdout",
     "output_type": "stream",
     "text": [
      "[1, 2, 3, 4, 5, 6]\n",
      "[23, 34, 64, 65, 69, 76]\n",
      "[(1, 69), (2, 64), (3, 76), (4, 23), (5, 65), (6, 34)]\n",
      "[6, 5, 4, 3, 2, 1]\n",
      "{2: 64, 1: 69, 4: 23, 5: 65, 6: 34, 3: 76}\n"
     ]
    }
   ],
   "source": [
    "def sorting(test):\n",
    "    test[2] = 64\n",
    "    test[1] = 69\n",
    "    test[4] = 23\n",
    "    test[5] = 65\n",
    "    test[6] = 34\n",
    "    test[3] = 76\n",
    "    print(test)\n",
    "print(sorted(test.keys()))\n",
    "print(sorted(test.values()))\n",
    "print(sorted(test.items()))\n",
    "print(sorted(test.keys(), reverse=True))\n",
    "test1 = {}\n",
    "sorting(test1)"
   ]
  },
  {
   "cell_type": "code",
   "execution_count": null,
   "metadata": {},
   "outputs": [],
   "source": []
  }
 ],
 "metadata": {
  "kernelspec": {
   "display_name": "Python 3",
   "language": "python",
   "name": "python3"
  },
  "language_info": {
   "codemirror_mode": {
    "name": "ipython",
    "version": 3
   },
   "file_extension": ".py",
   "mimetype": "text/x-python",
   "name": "python",
   "nbconvert_exporter": "python",
   "pygments_lexer": "ipython3",
   "version": "3.8.5"
  }
 },
 "nbformat": 4,
 "nbformat_minor": 4
}
