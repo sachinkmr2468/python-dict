{
 "cells": [
  {
   "cell_type": "markdown",
   "metadata": {},
   "source": [
    "# Python | Check order of character in string using OrderedDict( )"
   ]
  },
  {
   "cell_type": "markdown",
   "metadata": {},
   "source": [
    "''''''Input: \n",
    "string = \"engineers rock\"\n",
    "pattern = \"er\";\n",
    "Output: true\n",
    "Explanation: \n",
    "All 'e' in the input string are before all 'r'.''''''\n",
    "\n",
    "''''''Input: \n",
    "string = \"engineers rock\"\n",
    "pattern = \"egr\";\n",
    "Output: false\n",
    "Explanation: \n",
    "There are two 'e' after 'g' in the input string.''''''\n",
    "\n",
    "''''''Input: \n",
    "string = \"engineers rock\"\n",
    "pattern = \"gsr\";\n",
    "Output: false\n",
    "Explanation:\n",
    "There are one 'r' before 's' in the input string.''''''\n"
   ]
  },
  {
   "cell_type": "code",
   "execution_count": 103,
   "metadata": {},
   "outputs": [
    {
     "name": "stdout",
     "output_type": "stream",
     "text": [
      "true\n"
     ]
    }
   ],
   "source": [
    " \n",
    "from collections import OrderedDict \n",
    "  \n",
    "def checkOrder(input, pattern): \n",
    "      \n",
    "    \n",
    "    dict = OrderedDict.fromkeys(input) \n",
    "  \n",
    "   \n",
    "    ptrlen = 0\n",
    "    for key,value in dict.items(): \n",
    "        if (key == pattern[ptrlen]): \n",
    "            ptrlen = ptrlen + 1\n",
    "          \n",
    "       \n",
    "        if (ptrlen == (len(pattern))): \n",
    "            return 'true'\n",
    "  \n",
    "   \n",
    "    return 'false'\n",
    "  \n",
    "# Driver program \n",
    "if __name__ == \"__main__\": \n",
    "    input = 'engineers rock'\n",
    "    pattern = 'egr'\n",
    "    print (checkOrder(input,pattern)) \n"
   ]
  },
  {
   "cell_type": "code",
   "execution_count": 105,
   "metadata": {},
   "outputs": [
    {
     "name": "stdout",
     "output_type": "stream",
     "text": [
      "false\n"
     ]
    }
   ],
   "source": [
    "from collections import OrderedDict\n",
    "def check(input, pattern):\n",
    "    dicts = OrderedDict.fromkeys(input)\n",
    "    ptrn = 0\n",
    "    for key,value in dicts.items():\n",
    "        if(key==pattern[ptrn]):\n",
    "            ptrn = ptrn + 1\n",
    "        if(ptrn==(len(pattern))):\n",
    "            return 'True'\n",
    "    return 'false'\n",
    "\n",
    "if __name__ == \"__main__\": \n",
    "    input = 'engineers rock'\n",
    "    pattern = 're'\n",
    "    print (checkOrder(input,pattern))\n",
    "\n",
    "    "
   ]
  },
  {
   "cell_type": "code",
   "execution_count": null,
   "metadata": {},
   "outputs": [],
   "source": []
  }
 ],
 "metadata": {
  "kernelspec": {
   "display_name": "Python 3",
   "language": "python",
   "name": "python3"
  },
  "language_info": {
   "codemirror_mode": {
    "name": "ipython",
    "version": 3
   },
   "file_extension": ".py",
   "mimetype": "text/x-python",
   "name": "python",
   "nbconvert_exporter": "python",
   "pygments_lexer": "ipython3",
   "version": "3.8.5"
  }
 },
 "nbformat": 4,
 "nbformat_minor": 4
}
